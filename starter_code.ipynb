{
 "cells": [
  {
   "cell_type": "markdown",
   "metadata": {},
   "source": [
    "# Exerci­cio 3(a)"
   ]
  },
  {
   "cell_type": "code",
   "execution_count": 4,
   "metadata": {},
   "outputs": [
    {
     "name": "stdout",
     "output_type": "stream",
     "text": [
      "66.4303221275964\n",
      "-168.92355044829358\n",
      "[[  30.36741593]\n",
      " [ -36.06290619]\n",
      " [ 163.22806019]\n",
      " [ 296.08870444]\n",
      " [ 362.51902657]\n",
      " [ 428.9493487 ]\n",
      " [-102.49322832]\n",
      " [  96.79773806]\n",
      " [ 163.22806019]]\n",
      "5218.275201555755\n"
     ]
    }
   ],
   "source": [
    "import numpy as np\n",
    "\n",
    "rng = np.random.default_rng(seed=0)\n",
    "x = np.array([[3, 2, 5, 7, 8, 9, 1, 4, 5]]).T\n",
    "eps = rng.normal(size=x.shape)\n",
    "y = 0.77 + 0.15 * x - 1.22 * (x ** 2) + 0.89 * (x ** 3) + eps\n",
    "\n",
    "var1 = ((x - x.mean()) * (y - y.mean())).sum() / ((x - x.mean()) ** 2).sum() #beta1 ?\n",
    "print(var1)\n",
    "var2 = y.mean() - var1 * x.mean() #beta0 ?\n",
    "print(var2)\n",
    "var3 = var2 + var1 * x #y_hat, estimador para y\n",
    "print(var3)\n",
    "var4 = ((var3 - y) ** 2).mean() #MSE, erro médio quadrático.\n",
    "print(var4)"
   ]
  },
  {
   "cell_type": "markdown",
   "metadata": {},
   "source": [
    "Resposta: O método implementado é uma regressão linear. O pesquisador realiza uma regressão linear em cima dos pontos de uma curva polinomial de grau 3. Ele calcula os paramêtros da regressão linear, beta 1 e beta 0, em seguida calcula o valor estimado para esses ponto, y_hat (y chapéu), e por fim calcula o erro médio quadrático dessa estimação."
   ]
  },
  {
   "cell_type": "markdown",
   "metadata": {},
   "source": [
    "# Exercicio 3(b)"
   ]
  },
  {
   "cell_type": "markdown",
   "metadata": {},
   "source": [
    "O método não é adequado, pois regressão linear é um modelo polinomial de grau 1, enquanto o problema original era um polinomio de grau 3.O pesquisador deve esperar que var4, o erro médio quadrático, seja alto."
   ]
  },
  {
   "cell_type": "markdown",
   "metadata": {},
   "source": [
    "# Exercicio 3(c)"
   ]
  },
  {
   "cell_type": "code",
   "execution_count": 27,
   "metadata": {},
   "outputs": [
    {
     "name": "stdout",
     "output_type": "stream",
     "text": [
      "[[  1.   3.   9.  27.]\n",
      " [  1.   2.   4.   8.]\n",
      " [  1.   5.  25. 125.]\n",
      " [  1.   7.  49. 343.]\n",
      " [  1.   8.  64. 512.]\n",
      " [  1.   9.  81. 729.]\n",
      " [  1.   1.   1.   1.]\n",
      " [  1.   4.  16.  64.]\n",
      " [  1.   5.  25. 125.]]\n",
      "[[  1.   1.   1.   1.   1.   1.   1.   1.   1.]\n",
      " [  3.   2.   5.   7.   8.   9.   1.   4.   5.]\n",
      " [  9.   4.  25.  49.  64.  81.   1.  16.  25.]\n",
      " [ 27.   8. 125. 343. 512. 729.   1.  64. 125.]]\n",
      "(9, 1)\n",
      "[[ 14.39573022]\n",
      " [  3.17789514]\n",
      " [ 82.91042265]\n",
      " [247.41490012]\n",
      " [379.03433063]\n",
      " [552.47159505]\n",
      " [  1.89400005]\n",
      " [ 39.75708096]\n",
      " [ 81.56626476]]\n",
      "--------------------\n",
      "(4, 1)\n",
      "--------------------\n",
      "[[ 14.60346809]\n",
      " [  3.89452318]\n",
      " [ 82.30774154]\n",
      " [247.28053177]\n",
      " [379.57512266]\n",
      " [552.18584512]\n",
      " [  1.50370508]\n",
      " [ 38.96354061]\n",
      " [ 82.30774154]]\n",
      "--------------------\n",
      "0.2937692716528738\n"
     ]
    }
   ],
   "source": [
    "xx = np.concatenate([np.ones(x.shape), x, x ** 2, x ** 3], axis=1)\n",
    "print(xx)\n",
    "print(xx.T)\n",
    "print(y.shape)\n",
    "print(y)\n",
    "var5 = np.linalg.inv(xx.T @ xx) @ xx.T @ y # beta hat. Estima o vetor beta hat através dos mínimos quadrados que minimiza o erro residual.\n",
    "var6 = xx @ var5 # y_hat. Estimador de y\n",
    "var7 = ((var6 - y) ** 2).mean() #MSE, erro médio quadrático.\n",
    "\n",
    "print('-'*20)\n",
    "print(var5.shape)\n",
    "print('-'*20)\n",
    "print(var6)\n",
    "print('-'*20)\n",
    "print(var7)"
   ]
  },
  {
   "cell_type": "code",
   "execution_count": 21,
   "metadata": {},
   "outputs": [
    {
     "name": "stdout",
     "output_type": "stream",
     "text": [
      "(2, 9)\n"
     ]
    }
   ],
   "source": [
    "xx = np.concatenate([np.ones(x.shape), x], axis=1)\n",
    "var5 = np.linalg.inv(xx.T @ xx) @ xx.T\n",
    "print(var5.shape)"
   ]
  },
  {
   "cell_type": "markdown",
   "metadata": {},
   "source": [
    "# Exercicio 4"
   ]
  },
  {
   "cell_type": "markdown",
   "metadata": {},
   "source": []
  },
  {
   "cell_type": "code",
   "execution_count": 8,
   "metadata": {},
   "outputs": [
    {
     "data": {
      "text/html": [
       "<div>\n",
       "<style scoped>\n",
       "    .dataframe tbody tr th:only-of-type {\n",
       "        vertical-align: middle;\n",
       "    }\n",
       "\n",
       "    .dataframe tbody tr th {\n",
       "        vertical-align: top;\n",
       "    }\n",
       "\n",
       "    .dataframe thead th {\n",
       "        text-align: right;\n",
       "    }\n",
       "</style>\n",
       "<table border=\"1\" class=\"dataframe\">\n",
       "  <thead>\n",
       "    <tr style=\"text-align: right;\">\n",
       "      <th></th>\n",
       "      <th>home_team</th>\n",
       "      <th>away_team</th>\n",
       "      <th>rank_dif</th>\n",
       "      <th>goals_dif</th>\n",
       "      <th>goals_dif_l5</th>\n",
       "      <th>goals_suf_dif</th>\n",
       "      <th>goals_suf_dif_l5</th>\n",
       "      <th>goals_per_ranking_dif</th>\n",
       "      <th>dif_rank_agst</th>\n",
       "      <th>dif_rank_agst_l5</th>\n",
       "      <th>dif_points_rank</th>\n",
       "      <th>dif_points_rank_l5</th>\n",
       "      <th>is_friendly_1</th>\n",
       "    </tr>\n",
       "  </thead>\n",
       "  <tbody>\n",
       "    <tr>\n",
       "      <th>0</th>\n",
       "      <td>Barbados</td>\n",
       "      <td>Cuba</td>\n",
       "      <td>-21.0</td>\n",
       "      <td>2.0</td>\n",
       "      <td>2.0</td>\n",
       "      <td>1.000000</td>\n",
       "      <td>1.000000</td>\n",
       "      <td>0.037037</td>\n",
       "      <td>-92.000000</td>\n",
       "      <td>-92.000000</td>\n",
       "      <td>0.018519</td>\n",
       "      <td>0.018519</td>\n",
       "      <td>1</td>\n",
       "    </tr>\n",
       "    <tr>\n",
       "      <th>1</th>\n",
       "      <td>Barbados</td>\n",
       "      <td>Cuba</td>\n",
       "      <td>-21.0</td>\n",
       "      <td>1.0</td>\n",
       "      <td>1.0</td>\n",
       "      <td>0.500000</td>\n",
       "      <td>0.500000</td>\n",
       "      <td>0.008511</td>\n",
       "      <td>-35.500000</td>\n",
       "      <td>-35.500000</td>\n",
       "      <td>0.008897</td>\n",
       "      <td>0.008897</td>\n",
       "      <td>1</td>\n",
       "    </tr>\n",
       "    <tr>\n",
       "      <th>2</th>\n",
       "      <td>Mongolia</td>\n",
       "      <td>Guam</td>\n",
       "      <td>-4.0</td>\n",
       "      <td>4.0</td>\n",
       "      <td>4.0</td>\n",
       "      <td>-1.000000</td>\n",
       "      <td>-1.000000</td>\n",
       "      <td>0.021622</td>\n",
       "      <td>0.000000</td>\n",
       "      <td>0.000000</td>\n",
       "      <td>0.016216</td>\n",
       "      <td>0.016216</td>\n",
       "      <td>0</td>\n",
       "    </tr>\n",
       "    <tr>\n",
       "      <th>3</th>\n",
       "      <td>Nepal</td>\n",
       "      <td>Bhutan</td>\n",
       "      <td>-22.0</td>\n",
       "      <td>1.0</td>\n",
       "      <td>1.0</td>\n",
       "      <td>0.000000</td>\n",
       "      <td>0.000000</td>\n",
       "      <td>0.004975</td>\n",
       "      <td>7.000000</td>\n",
       "      <td>7.000000</td>\n",
       "      <td>0.000000</td>\n",
       "      <td>0.000000</td>\n",
       "      <td>0</td>\n",
       "    </tr>\n",
       "    <tr>\n",
       "      <th>4</th>\n",
       "      <td>Bangladesh</td>\n",
       "      <td>Pakistan</td>\n",
       "      <td>-7.0</td>\n",
       "      <td>-1.0</td>\n",
       "      <td>-1.0</td>\n",
       "      <td>-0.500000</td>\n",
       "      <td>-0.500000</td>\n",
       "      <td>-0.007200</td>\n",
       "      <td>30.500000</td>\n",
       "      <td>30.500000</td>\n",
       "      <td>-0.010437</td>\n",
       "      <td>-0.010437</td>\n",
       "      <td>0</td>\n",
       "    </tr>\n",
       "    <tr>\n",
       "      <th>5</th>\n",
       "      <td>Pakistan</td>\n",
       "      <td>Bhutan</td>\n",
       "      <td>18.0</td>\n",
       "      <td>1.0</td>\n",
       "      <td>1.0</td>\n",
       "      <td>-2.000000</td>\n",
       "      <td>-2.000000</td>\n",
       "      <td>0.005634</td>\n",
       "      <td>0.000000</td>\n",
       "      <td>0.000000</td>\n",
       "      <td>0.009317</td>\n",
       "      <td>0.009317</td>\n",
       "      <td>0</td>\n",
       "    </tr>\n",
       "    <tr>\n",
       "      <th>6</th>\n",
       "      <td>Bangladesh</td>\n",
       "      <td>Nepal</td>\n",
       "      <td>33.0</td>\n",
       "      <td>-1.5</td>\n",
       "      <td>-1.5</td>\n",
       "      <td>-0.666667</td>\n",
       "      <td>-0.666667</td>\n",
       "      <td>-0.007884</td>\n",
       "      <td>2.666667</td>\n",
       "      <td>2.666667</td>\n",
       "      <td>0.002243</td>\n",
       "      <td>0.002243</td>\n",
       "      <td>0</td>\n",
       "    </tr>\n",
       "    <tr>\n",
       "      <th>7</th>\n",
       "      <td>France</td>\n",
       "      <td>Netherlands</td>\n",
       "      <td>-16.0</td>\n",
       "      <td>-2.0</td>\n",
       "      <td>-2.0</td>\n",
       "      <td>-1.000000</td>\n",
       "      <td>-1.000000</td>\n",
       "      <td>-0.100000</td>\n",
       "      <td>-5.000000</td>\n",
       "      <td>-5.000000</td>\n",
       "      <td>-0.083333</td>\n",
       "      <td>-0.083333</td>\n",
       "      <td>0</td>\n",
       "    </tr>\n",
       "    <tr>\n",
       "      <th>8</th>\n",
       "      <td>Ukraine</td>\n",
       "      <td>Slovakia</td>\n",
       "      <td>9.0</td>\n",
       "      <td>-1.0</td>\n",
       "      <td>-1.0</td>\n",
       "      <td>1.000000</td>\n",
       "      <td>1.000000</td>\n",
       "      <td>-0.287879</td>\n",
       "      <td>35.000000</td>\n",
       "      <td>35.000000</td>\n",
       "      <td>-0.265152</td>\n",
       "      <td>-0.265152</td>\n",
       "      <td>0</td>\n",
       "    </tr>\n",
       "    <tr>\n",
       "      <th>9</th>\n",
       "      <td>Denmark</td>\n",
       "      <td>Wales</td>\n",
       "      <td>-10.0</td>\n",
       "      <td>-4.0</td>\n",
       "      <td>-4.0</td>\n",
       "      <td>2.000000</td>\n",
       "      <td>2.000000</td>\n",
       "      <td>-0.137931</td>\n",
       "      <td>-3.000000</td>\n",
       "      <td>-3.000000</td>\n",
       "      <td>-0.103448</td>\n",
       "      <td>-0.103448</td>\n",
       "      <td>0</td>\n",
       "    </tr>\n",
       "  </tbody>\n",
       "</table>\n",
       "</div>"
      ],
      "text/plain": [
       "    home_team    away_team  rank_dif  goals_dif  goals_dif_l5  goals_suf_dif  \\\n",
       "0    Barbados         Cuba     -21.0        2.0           2.0       1.000000   \n",
       "1    Barbados         Cuba     -21.0        1.0           1.0       0.500000   \n",
       "2    Mongolia         Guam      -4.0        4.0           4.0      -1.000000   \n",
       "3       Nepal       Bhutan     -22.0        1.0           1.0       0.000000   \n",
       "4  Bangladesh     Pakistan      -7.0       -1.0          -1.0      -0.500000   \n",
       "5    Pakistan       Bhutan      18.0        1.0           1.0      -2.000000   \n",
       "6  Bangladesh        Nepal      33.0       -1.5          -1.5      -0.666667   \n",
       "7      France  Netherlands     -16.0       -2.0          -2.0      -1.000000   \n",
       "8     Ukraine     Slovakia       9.0       -1.0          -1.0       1.000000   \n",
       "9     Denmark        Wales     -10.0       -4.0          -4.0       2.000000   \n",
       "\n",
       "   goals_suf_dif_l5  goals_per_ranking_dif  dif_rank_agst  dif_rank_agst_l5  \\\n",
       "0          1.000000               0.037037     -92.000000        -92.000000   \n",
       "1          0.500000               0.008511     -35.500000        -35.500000   \n",
       "2         -1.000000               0.021622       0.000000          0.000000   \n",
       "3          0.000000               0.004975       7.000000          7.000000   \n",
       "4         -0.500000              -0.007200      30.500000         30.500000   \n",
       "5         -2.000000               0.005634       0.000000          0.000000   \n",
       "6         -0.666667              -0.007884       2.666667          2.666667   \n",
       "7         -1.000000              -0.100000      -5.000000         -5.000000   \n",
       "8          1.000000              -0.287879      35.000000         35.000000   \n",
       "9          2.000000              -0.137931      -3.000000         -3.000000   \n",
       "\n",
       "   dif_points_rank  dif_points_rank_l5  is_friendly_1  \n",
       "0         0.018519            0.018519              1  \n",
       "1         0.008897            0.008897              1  \n",
       "2         0.016216            0.016216              0  \n",
       "3         0.000000            0.000000              0  \n",
       "4        -0.010437           -0.010437              0  \n",
       "5         0.009317            0.009317              0  \n",
       "6         0.002243            0.002243              0  \n",
       "7        -0.083333           -0.083333              0  \n",
       "8        -0.265152           -0.265152              0  \n",
       "9        -0.103448           -0.103448              0  "
      ]
     },
     "execution_count": 8,
     "metadata": {},
     "output_type": "execute_result"
    }
   ],
   "source": [
    "import matplotlib.pyplot as plt\n",
    "import pandas as pd\n",
    "from sklearn.discriminant_analysis import LinearDiscriminantAnalysis as LDA\n",
    "from sklearn.discriminant_analysis import QuadraticDiscriminantAnalysis as QDA\n",
    "from sklearn.linear_model import LogisticRegression as LR\n",
    "from sklearn.naive_bayes import GaussianNB as NB\n",
    "from sklearn.neighbors import KNeighborsClassifier as kNN\n",
    "from sklearn import preprocessing\n",
    "\n",
    "df = pd.read_csv(\"./soccer.csv\")\n",
    "\n",
    "X = df.drop(\"target\", axis=1)\n",
    "y = df[[\"target\"]]\n",
    "\n",
    "X_train, y_train = X.iloc[:2560], y.iloc[:2560]\n",
    "X_test, y_test = X.iloc[2560:], y.iloc[2560:]\n",
    "\n",
    "X_train.head(10)"
   ]
  },
  {
   "cell_type": "code",
   "execution_count": 9,
   "metadata": {},
   "outputs": [
    {
     "name": "stdout",
     "output_type": "stream",
     "text": [
      "129.25 -182.0\n",
      "5.166666666666667 -5.0\n"
     ]
    }
   ],
   "source": [
    "print(X_train[\"dif_rank_agst\"].max(), X_train[\"dif_rank_agst\"].min())\n",
    "print(X_train[\"goals_dif\"].max(), X_train[\"goals_dif\"].min())"
   ]
  },
  {
   "cell_type": "code",
   "execution_count": 14,
   "metadata": {},
   "outputs": [],
   "source": [
    "X_train = X_train.drop([\"home_team\", \"away_team\"], axis=1)\n",
    "X_test = X_test.drop([\"home_team\", \"away_team\"], axis=1)\n",
    "\n",
    "scaler = preprocessing.StandardScaler().fit(X_train)\n",
    "X_train = preprocessing.scale(X_train)\n",
    "X_test = scaler.transform(X_test)"
   ]
  },
  {
   "cell_type": "code",
   "execution_count": 11,
   "metadata": {},
   "outputs": [
    {
     "data": {
      "text/html": [
       "<div>\n",
       "<style scoped>\n",
       "    .dataframe tbody tr th:only-of-type {\n",
       "        vertical-align: middle;\n",
       "    }\n",
       "\n",
       "    .dataframe tbody tr th {\n",
       "        vertical-align: top;\n",
       "    }\n",
       "\n",
       "    .dataframe thead th {\n",
       "        text-align: right;\n",
       "    }\n",
       "</style>\n",
       "<table border=\"1\" class=\"dataframe\">\n",
       "  <thead>\n",
       "    <tr style=\"text-align: right;\">\n",
       "      <th></th>\n",
       "      <th>home_team</th>\n",
       "      <th>away_team</th>\n",
       "      <th>rank_dif</th>\n",
       "      <th>goals_dif</th>\n",
       "      <th>goals_dif_l5</th>\n",
       "      <th>goals_suf_dif</th>\n",
       "      <th>goals_suf_dif_l5</th>\n",
       "      <th>goals_per_ranking_dif</th>\n",
       "      <th>dif_rank_agst</th>\n",
       "      <th>dif_rank_agst_l5</th>\n",
       "      <th>dif_points_rank</th>\n",
       "      <th>dif_points_rank_l5</th>\n",
       "      <th>is_friendly_1</th>\n",
       "    </tr>\n",
       "  </thead>\n",
       "  <tbody>\n",
       "    <tr>\n",
       "      <th>2560</th>\n",
       "      <td>Morocco</td>\n",
       "      <td>Comoros</td>\n",
       "      <td>-104.0</td>\n",
       "      <td>0.781250</td>\n",
       "      <td>0.2</td>\n",
       "      <td>-0.912202</td>\n",
       "      <td>-0.4</td>\n",
       "      <td>0.013097</td>\n",
       "      <td>-30.389881</td>\n",
       "      <td>-68.6</td>\n",
       "      <td>0.025636</td>\n",
       "      <td>0.030096</td>\n",
       "      <td>0</td>\n",
       "    </tr>\n",
       "    <tr>\n",
       "      <th>2561</th>\n",
       "      <td>Gabon</td>\n",
       "      <td>Ghana</td>\n",
       "      <td>37.0</td>\n",
       "      <td>-0.090686</td>\n",
       "      <td>0.2</td>\n",
       "      <td>0.443627</td>\n",
       "      <td>0.2</td>\n",
       "      <td>-0.003208</td>\n",
       "      <td>15.752451</td>\n",
       "      <td>15.6</td>\n",
       "      <td>-0.002582</td>\n",
       "      <td>-0.004016</td>\n",
       "      <td>0</td>\n",
       "    </tr>\n",
       "    <tr>\n",
       "      <th>2562</th>\n",
       "      <td>South Korea</td>\n",
       "      <td>Iceland</td>\n",
       "      <td>-29.0</td>\n",
       "      <td>0.647619</td>\n",
       "      <td>0.2</td>\n",
       "      <td>-1.080952</td>\n",
       "      <td>-0.6</td>\n",
       "      <td>0.004299</td>\n",
       "      <td>17.052381</td>\n",
       "      <td>-26.0</td>\n",
       "      <td>0.015580</td>\n",
       "      <td>0.026649</td>\n",
       "      <td>1</td>\n",
       "    </tr>\n",
       "    <tr>\n",
       "      <th>2563</th>\n",
       "      <td>Nigeria</td>\n",
       "      <td>Sudan</td>\n",
       "      <td>-89.0</td>\n",
       "      <td>0.401434</td>\n",
       "      <td>1.0</td>\n",
       "      <td>-0.573477</td>\n",
       "      <td>-1.6</td>\n",
       "      <td>0.007106</td>\n",
       "      <td>-21.334528</td>\n",
       "      <td>18.0</td>\n",
       "      <td>0.027568</td>\n",
       "      <td>0.022632</td>\n",
       "      <td>0</td>\n",
       "    </tr>\n",
       "    <tr>\n",
       "      <th>2564</th>\n",
       "      <td>Guinea-Bissau</td>\n",
       "      <td>Egypt</td>\n",
       "      <td>61.0</td>\n",
       "      <td>-0.770690</td>\n",
       "      <td>-0.8</td>\n",
       "      <td>0.998276</td>\n",
       "      <td>0.8</td>\n",
       "      <td>-0.007272</td>\n",
       "      <td>-7.724138</td>\n",
       "      <td>30.8</td>\n",
       "      <td>-0.013644</td>\n",
       "      <td>-0.011007</td>\n",
       "      <td>0</td>\n",
       "    </tr>\n",
       "    <tr>\n",
       "      <th>2565</th>\n",
       "      <td>Colombia</td>\n",
       "      <td>Honduras</td>\n",
       "      <td>-60.0</td>\n",
       "      <td>-0.059553</td>\n",
       "      <td>-0.6</td>\n",
       "      <td>-0.650951</td>\n",
       "      <td>-1.8</td>\n",
       "      <td>0.023644</td>\n",
       "      <td>-34.928040</td>\n",
       "      <td>-24.0</td>\n",
       "      <td>0.071754</td>\n",
       "      <td>0.121231</td>\n",
       "      <td>1</td>\n",
       "    </tr>\n",
       "    <tr>\n",
       "      <th>2566</th>\n",
       "      <td>Peru</td>\n",
       "      <td>Panama</td>\n",
       "      <td>-41.0</td>\n",
       "      <td>-0.427381</td>\n",
       "      <td>0.0</td>\n",
       "      <td>-0.048810</td>\n",
       "      <td>-1.0</td>\n",
       "      <td>0.017658</td>\n",
       "      <td>-41.533333</td>\n",
       "      <td>-4.4</td>\n",
       "      <td>0.048008</td>\n",
       "      <td>-0.018429</td>\n",
       "      <td>1</td>\n",
       "    </tr>\n",
       "    <tr>\n",
       "      <th>2567</th>\n",
       "      <td>Algeria</td>\n",
       "      <td>Equatorial Guinea</td>\n",
       "      <td>-85.0</td>\n",
       "      <td>1.325000</td>\n",
       "      <td>0.6</td>\n",
       "      <td>-0.530435</td>\n",
       "      <td>0.2</td>\n",
       "      <td>0.018797</td>\n",
       "      <td>-20.204348</td>\n",
       "      <td>-26.2</td>\n",
       "      <td>0.036003</td>\n",
       "      <td>0.013393</td>\n",
       "      <td>0</td>\n",
       "    </tr>\n",
       "    <tr>\n",
       "      <th>2568</th>\n",
       "      <td>Gambia</td>\n",
       "      <td>Mali</td>\n",
       "      <td>97.0</td>\n",
       "      <td>-0.511905</td>\n",
       "      <td>-1.4</td>\n",
       "      <td>0.226190</td>\n",
       "      <td>1.2</td>\n",
       "      <td>-0.008401</td>\n",
       "      <td>26.214286</td>\n",
       "      <td>31.6</td>\n",
       "      <td>-0.004160</td>\n",
       "      <td>-0.034131</td>\n",
       "      <td>0</td>\n",
       "    </tr>\n",
       "    <tr>\n",
       "      <th>2569</th>\n",
       "      <td>Tunisia</td>\n",
       "      <td>Mauritania</td>\n",
       "      <td>-73.0</td>\n",
       "      <td>0.689793</td>\n",
       "      <td>0.2</td>\n",
       "      <td>-0.539872</td>\n",
       "      <td>0.0</td>\n",
       "      <td>0.008609</td>\n",
       "      <td>-1.394737</td>\n",
       "      <td>-35.2</td>\n",
       "      <td>0.021845</td>\n",
       "      <td>0.016958</td>\n",
       "      <td>0</td>\n",
       "    </tr>\n",
       "  </tbody>\n",
       "</table>\n",
       "</div>"
      ],
      "text/plain": [
       "          home_team          away_team  rank_dif  goals_dif  goals_dif_l5  \\\n",
       "2560        Morocco            Comoros    -104.0   0.781250           0.2   \n",
       "2561          Gabon              Ghana      37.0  -0.090686           0.2   \n",
       "2562    South Korea            Iceland     -29.0   0.647619           0.2   \n",
       "2563        Nigeria              Sudan     -89.0   0.401434           1.0   \n",
       "2564  Guinea-Bissau              Egypt      61.0  -0.770690          -0.8   \n",
       "2565       Colombia           Honduras     -60.0  -0.059553          -0.6   \n",
       "2566           Peru             Panama     -41.0  -0.427381           0.0   \n",
       "2567        Algeria  Equatorial Guinea     -85.0   1.325000           0.6   \n",
       "2568         Gambia               Mali      97.0  -0.511905          -1.4   \n",
       "2569        Tunisia         Mauritania     -73.0   0.689793           0.2   \n",
       "\n",
       "      goals_suf_dif  goals_suf_dif_l5  goals_per_ranking_dif  dif_rank_agst  \\\n",
       "2560      -0.912202              -0.4               0.013097     -30.389881   \n",
       "2561       0.443627               0.2              -0.003208      15.752451   \n",
       "2562      -1.080952              -0.6               0.004299      17.052381   \n",
       "2563      -0.573477              -1.6               0.007106     -21.334528   \n",
       "2564       0.998276               0.8              -0.007272      -7.724138   \n",
       "2565      -0.650951              -1.8               0.023644     -34.928040   \n",
       "2566      -0.048810              -1.0               0.017658     -41.533333   \n",
       "2567      -0.530435               0.2               0.018797     -20.204348   \n",
       "2568       0.226190               1.2              -0.008401      26.214286   \n",
       "2569      -0.539872               0.0               0.008609      -1.394737   \n",
       "\n",
       "      dif_rank_agst_l5  dif_points_rank  dif_points_rank_l5  is_friendly_1  \n",
       "2560             -68.6         0.025636            0.030096              0  \n",
       "2561              15.6        -0.002582           -0.004016              0  \n",
       "2562             -26.0         0.015580            0.026649              1  \n",
       "2563              18.0         0.027568            0.022632              0  \n",
       "2564              30.8        -0.013644           -0.011007              0  \n",
       "2565             -24.0         0.071754            0.121231              1  \n",
       "2566              -4.4         0.048008           -0.018429              1  \n",
       "2567             -26.2         0.036003            0.013393              0  \n",
       "2568              31.6        -0.004160           -0.034131              0  \n",
       "2569             -35.2         0.021845            0.016958              0  "
      ]
     },
     "execution_count": 11,
     "metadata": {},
     "output_type": "execute_result"
    }
   ],
   "source": [
    "X_test.head(10)"
   ]
  },
  {
   "cell_type": "markdown",
   "metadata": {},
   "source": [
    "# 4(a)\n",
    "\n",
    "É necesário normalizar as features porque elas apresentam escalas diferentes. Por exemplo, a variável diferença entre ranking médio do time da casa e do time fora de fora, isto é _dif_rank_agst_, possui uma escala diferente diferença da média de gols entre o time da casa e o de fora, _goals_dif_. Ao não se usar features normalizadas, o modelo pode atribuir valores desproporcionais aos parâmetros aprendidos, deixando a variável com escala maior dominar os resultados do modelo, e portanto, diminuindo a contribuição das outras variáveis."
   ]
  },
  {
   "cell_type": "markdown",
   "metadata": {},
   "source": [
    "## "
   ]
  },
  {
   "cell_type": "markdown",
   "metadata": {},
   "source": [
    "## 4(b)\n",
    "\n"
   ]
  },
  {
   "cell_type": "code",
   "execution_count": 17,
   "metadata": {},
   "outputs": [
    {
     "name": "stderr",
     "output_type": "stream",
     "text": [
      "/home/thiago/python-envs/base/lib/python3.10/site-packages/sklearn/neighbors/_classification.py:228: DataConversionWarning: A column-vector y was passed when a 1d array was expected. Please change the shape of y to (n_samples,), for example using ravel().\n",
      "  return self._fit(X, y)\n"
     ]
    },
    {
     "data": {
      "text/html": [
       "<style>#sk-container-id-1 {color: black;}#sk-container-id-1 pre{padding: 0;}#sk-container-id-1 div.sk-toggleable {background-color: white;}#sk-container-id-1 label.sk-toggleable__label {cursor: pointer;display: block;width: 100%;margin-bottom: 0;padding: 0.3em;box-sizing: border-box;text-align: center;}#sk-container-id-1 label.sk-toggleable__label-arrow:before {content: \"▸\";float: left;margin-right: 0.25em;color: #696969;}#sk-container-id-1 label.sk-toggleable__label-arrow:hover:before {color: black;}#sk-container-id-1 div.sk-estimator:hover label.sk-toggleable__label-arrow:before {color: black;}#sk-container-id-1 div.sk-toggleable__content {max-height: 0;max-width: 0;overflow: hidden;text-align: left;background-color: #f0f8ff;}#sk-container-id-1 div.sk-toggleable__content pre {margin: 0.2em;color: black;border-radius: 0.25em;background-color: #f0f8ff;}#sk-container-id-1 input.sk-toggleable__control:checked~div.sk-toggleable__content {max-height: 200px;max-width: 100%;overflow: auto;}#sk-container-id-1 input.sk-toggleable__control:checked~label.sk-toggleable__label-arrow:before {content: \"▾\";}#sk-container-id-1 div.sk-estimator input.sk-toggleable__control:checked~label.sk-toggleable__label {background-color: #d4ebff;}#sk-container-id-1 div.sk-label input.sk-toggleable__control:checked~label.sk-toggleable__label {background-color: #d4ebff;}#sk-container-id-1 input.sk-hidden--visually {border: 0;clip: rect(1px 1px 1px 1px);clip: rect(1px, 1px, 1px, 1px);height: 1px;margin: -1px;overflow: hidden;padding: 0;position: absolute;width: 1px;}#sk-container-id-1 div.sk-estimator {font-family: monospace;background-color: #f0f8ff;border: 1px dotted black;border-radius: 0.25em;box-sizing: border-box;margin-bottom: 0.5em;}#sk-container-id-1 div.sk-estimator:hover {background-color: #d4ebff;}#sk-container-id-1 div.sk-parallel-item::after {content: \"\";width: 100%;border-bottom: 1px solid gray;flex-grow: 1;}#sk-container-id-1 div.sk-label:hover label.sk-toggleable__label {background-color: #d4ebff;}#sk-container-id-1 div.sk-serial::before {content: \"\";position: absolute;border-left: 1px solid gray;box-sizing: border-box;top: 0;bottom: 0;left: 50%;z-index: 0;}#sk-container-id-1 div.sk-serial {display: flex;flex-direction: column;align-items: center;background-color: white;padding-right: 0.2em;padding-left: 0.2em;position: relative;}#sk-container-id-1 div.sk-item {position: relative;z-index: 1;}#sk-container-id-1 div.sk-parallel {display: flex;align-items: stretch;justify-content: center;background-color: white;position: relative;}#sk-container-id-1 div.sk-item::before, #sk-container-id-1 div.sk-parallel-item::before {content: \"\";position: absolute;border-left: 1px solid gray;box-sizing: border-box;top: 0;bottom: 0;left: 50%;z-index: -1;}#sk-container-id-1 div.sk-parallel-item {display: flex;flex-direction: column;z-index: 1;position: relative;background-color: white;}#sk-container-id-1 div.sk-parallel-item:first-child::after {align-self: flex-end;width: 50%;}#sk-container-id-1 div.sk-parallel-item:last-child::after {align-self: flex-start;width: 50%;}#sk-container-id-1 div.sk-parallel-item:only-child::after {width: 0;}#sk-container-id-1 div.sk-dashed-wrapped {border: 1px dashed gray;margin: 0 0.4em 0.5em 0.4em;box-sizing: border-box;padding-bottom: 0.4em;background-color: white;}#sk-container-id-1 div.sk-label label {font-family: monospace;font-weight: bold;display: inline-block;line-height: 1.2em;}#sk-container-id-1 div.sk-label-container {text-align: center;}#sk-container-id-1 div.sk-container {/* jupyter's `normalize.less` sets `[hidden] { display: none; }` but bootstrap.min.css set `[hidden] { display: none !important; }` so we also need the `!important` here to be able to override the default hidden behavior on the sphinx rendered scikit-learn.org. See: https://github.com/scikit-learn/scikit-learn/issues/21755 */display: inline-block !important;position: relative;}#sk-container-id-1 div.sk-text-repr-fallback {display: none;}</style><div id=\"sk-container-id-1\" class=\"sk-top-container\"><div class=\"sk-text-repr-fallback\"><pre>KNeighborsClassifier()</pre><b>In a Jupyter environment, please rerun this cell to show the HTML representation or trust the notebook. <br />On GitHub, the HTML representation is unable to render, please try loading this page with nbviewer.org.</b></div><div class=\"sk-container\" hidden><div class=\"sk-item\"><div class=\"sk-estimator sk-toggleable\"><input class=\"sk-toggleable__control sk-hidden--visually\" id=\"sk-estimator-id-1\" type=\"checkbox\" checked><label for=\"sk-estimator-id-1\" class=\"sk-toggleable__label sk-toggleable__label-arrow\">KNeighborsClassifier</label><div class=\"sk-toggleable__content\"><pre>KNeighborsClassifier()</pre></div></div></div></div></div>"
      ],
      "text/plain": [
       "KNeighborsClassifier()"
      ]
     },
     "execution_count": 17,
     "metadata": {},
     "output_type": "execute_result"
    }
   ],
   "source": [
    "neigh = kNN(n_neighbors=5)\n",
    "neigh.fit(X_train, y_train)"
   ]
  },
  {
   "cell_type": "code",
   "execution_count": 25,
   "metadata": {},
   "outputs": [
    {
     "name": "stdout",
     "output_type": "stream",
     "text": [
      "(640,) (640, 1)\n"
     ]
    }
   ],
   "source": [
    "y_hat_train = neigh.predict(X_train)\n",
    "y_hat_test = neigh.predict(X_test)\n",
    "\n",
    "# train_error = ((y_hat_train - y_train).mean()) ** 2\n",
    "# test_error = ((y_hat_test - y_test).mean()) ** 2\n",
    "print(y_hat_test.shape, y_test.shape)"
   ]
  },
  {
   "cell_type": "code",
   "execution_count": 41,
   "metadata": {},
   "outputs": [],
   "source": [
    "train_error = (((y_hat_train - y_train[\"target\"].to_numpy())) ** 2).mean()\n",
    "test_error = (((y_hat_test - y_test[\"target\"].to_numpy())) ** 2).mean()"
   ]
  },
  {
   "cell_type": "code",
   "execution_count": 42,
   "metadata": {},
   "outputs": [
    {
     "name": "stdout",
     "output_type": "stream",
     "text": [
      "0.23203125\n",
      "0.365625\n"
     ]
    }
   ],
   "source": [
    "print(train_error)\n",
    "print(test_error)"
   ]
  },
  {
   "cell_type": "markdown",
   "metadata": {},
   "source": [
    "# Fazer (c) e (d)"
   ]
  },
  {
   "cell_type": "markdown",
   "metadata": {},
   "source": [
    "# Exercicio 5"
   ]
  },
  {
   "cell_type": "markdown",
   "metadata": {},
   "source": [
    "# 5(a)\n",
    "\n",
    "O modelo que necessita da normalização é o lasso. Como se trata de um método de regularização, ele penaliza os coeficientes maiores, logo se as features não tiverem uma escala parecida, alguma variável pode ser mais penalizada incorretamente."
   ]
  },
  {
   "cell_type": "markdown",
   "metadata": {},
   "source": []
  }
 ],
 "metadata": {
  "kernelspec": {
   "display_name": "base",
   "language": "python",
   "name": "python3"
  },
  "language_info": {
   "codemirror_mode": {
    "name": "ipython",
    "version": 3
   },
   "file_extension": ".py",
   "mimetype": "text/x-python",
   "name": "python",
   "nbconvert_exporter": "python",
   "pygments_lexer": "ipython3",
   "version": "3.10.12"
  }
 },
 "nbformat": 4,
 "nbformat_minor": 2
}
