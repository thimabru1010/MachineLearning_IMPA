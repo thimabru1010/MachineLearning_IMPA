{
 "cells": [
  {
   "cell_type": "markdown",
   "metadata": {},
   "source": [
    "# Exerci­cio 3(a)"
   ]
  },
  {
   "cell_type": "code",
   "execution_count": 4,
   "metadata": {},
   "outputs": [
    {
     "name": "stdout",
     "output_type": "stream",
     "text": [
      "66.4303221275964\n",
      "-168.92355044829358\n",
      "[[  30.36741593]\n",
      " [ -36.06290619]\n",
      " [ 163.22806019]\n",
      " [ 296.08870444]\n",
      " [ 362.51902657]\n",
      " [ 428.9493487 ]\n",
      " [-102.49322832]\n",
      " [  96.79773806]\n",
      " [ 163.22806019]]\n",
      "5218.275201555755\n"
     ]
    }
   ],
   "source": [
    "import numpy as np\n",
    "\n",
    "rng = np.random.default_rng(seed=0)\n",
    "x = np.array([[3, 2, 5, 7, 8, 9, 1, 4, 5]]).T\n",
    "eps = rng.normal(size=x.shape)\n",
    "y = 0.77 + 0.15 * x - 1.22 * (x ** 2) + 0.89 * (x ** 3) + eps\n",
    "\n",
    "var1 = ((x - x.mean()) * (y - y.mean())).sum() / ((x - x.mean()) ** 2).sum() #beta1 ?\n",
    "print(var1)\n",
    "var2 = y.mean() - var1 * x.mean() #beta0 ?\n",
    "print(var2)\n",
    "var3 = var2 + var1 * x #y_hat, estimador para y\n",
    "print(var3)\n",
    "var4 = ((var3 - y) ** 2).mean() #MSE, erro médio quadrático.\n",
    "print(var4)"
   ]
  },
  {
   "cell_type": "markdown",
   "metadata": {},
   "source": [
    "Resposta: O método implementado é uma regressão linear. O pesquisador realiza uma regressão linear em cima dos pontos de uma curva polinomial de grau 3. Ele calcula os paramêtros da regressão linear, beta 1 e beta 0, em seguida calcula o valor estimado para esses ponto, y_hat (y chapéu), e por fim calcula o erro médio quadrático dessa estimação."
   ]
  },
  {
   "cell_type": "markdown",
   "metadata": {},
   "source": [
    "# Exercicio 3(b)"
   ]
  },
  {
   "cell_type": "markdown",
   "metadata": {},
   "source": [
    "O método não é adequado, pois regressão linear é um modelo polinomial de grau 1, enquanto o problema original era um polinomio de grau 3.O pesquisador deve esperar que var4, o erro médio quadrático, seja alto."
   ]
  },
  {
   "cell_type": "markdown",
   "metadata": {},
   "source": []
  }
 ],
 "metadata": {
  "kernelspec": {
   "display_name": "base",
   "language": "python",
   "name": "python3"
  },
  "language_info": {
   "codemirror_mode": {
    "name": "ipython",
    "version": 3
   },
   "file_extension": ".py",
   "mimetype": "text/x-python",
   "name": "python",
   "nbconvert_exporter": "python",
   "pygments_lexer": "ipython3",
   "version": "3.10.12"
  }
 },
 "nbformat": 4,
 "nbformat_minor": 2
}
